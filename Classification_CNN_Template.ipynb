{
 "cells": [
  {
   "cell_type": "code",
   "execution_count": 1,
   "metadata": {
    "id": "Q_Ctl5jLS8-p"
   },
   "outputs": [],
   "source": [
    "import os\n",
    "import tensorflow as tf\n",
    "import numpy as np"
   ]
  },
  {
   "cell_type": "code",
   "execution_count": 2,
   "metadata": {
    "colab": {
     "base_uri": "https://localhost:8080/"
    },
    "id": "9jf5iNc_Uu1j",
    "outputId": "2afece1f-45cd-4a87-afbd-41b2b994af68"
   },
   "outputs": [
    {
     "name": "stdout",
     "output_type": "stream",
     "text": [
      "Requirement already satisfied: split-folders in c:\\users\\asad\\appdata\\local\\anaconda3\\envs\\practice_notebook\\lib\\site-packages (0.5.1)\n"
     ]
    }
   ],
   "source": [
    "!pip install split-folders"
   ]
  },
  {
   "cell_type": "code",
   "execution_count": 3,
   "metadata": {
    "colab": {
     "base_uri": "https://localhost:8080/"
    },
    "id": "H4SN5q9gVVD5",
    "outputId": "8382d251-6e36-4014-c868-842e8745e9a4"
   },
   "outputs": [
    {
     "name": "stderr",
     "output_type": "stream",
     "text": [
      "Copying files: 1000 files [00:06, 144.36 files/s]\n"
     ]
    }
   ],
   "source": [
    "import splitfolders\n",
    "splitfolders.ratio('CatsAndDogs', output=\"CatsAndDogsTTS\", seed=1337, ratio=(.7, 0.2,0.1))"
   ]
  },
  {
   "cell_type": "code",
   "execution_count": 4,
   "metadata": {
    "id": "w5rdjfKLTg9X"
   },
   "outputs": [],
   "source": [
    "dataset_path = \"C:/Users/asad/practice/CatsAndDogsTTS\"\n",
    "TRAINING_DATA_DIR=\"C:/Users/asad/practice/CatsAndDogsTTS/train\"\n",
    "VALID_DATA_DIR=\"C:/Users/asad/practice/CatsAndDogsTTS/val\"\n",
    "Test_Data_DIR=\"C:/Users/asad/practice/CatsAndDogsTTS/test\""
   ]
  },
  {
   "cell_type": "code",
   "execution_count": 6,
   "metadata": {
    "id": "fDYxXXLQUQS7"
   },
   "outputs": [],
   "source": [
    "IMAGE_SHAPE = (256, 256) # (height, width) in no. of pixels"
   ]
  },
  {
   "cell_type": "code",
   "execution_count": 7,
   "metadata": {
    "colab": {
     "base_uri": "https://localhost:8080/"
    },
    "id": "MAITR8p63o7Y",
    "outputId": "062ee87e-4ab3-4da2-bfb9-39fa30a693f4"
   },
   "outputs": [
    {
     "name": "stdout",
     "output_type": "stream",
     "text": [
      "Found 700 images belonging to 2 classes.\n"
     ]
    }
   ],
   "source": [
    "train_datagen = tf.keras.preprocessing.image.ImageDataGenerator(rescale=1./255,\n",
    "                                                                horizontal_flip=True,\n",
    "                                                                vertical_flip=True,\n",
    "                                                                brightness_range=(0.5,0.8),\n",
    "                                                                rotation_range=30)\n",
    "train_generator = train_datagen.flow_from_directory(\n",
    "TRAINING_DATA_DIR,\n",
    "class_mode='binary',\n",
    "shuffle=True,\n",
    "target_size=IMAGE_SHAPE)"
   ]
  },
  {
   "cell_type": "code",
   "execution_count": 8,
   "metadata": {
    "colab": {
     "base_uri": "https://localhost:8080/"
    },
    "id": "PMW77rCpiO1J",
    "outputId": "4d6648d1-7bfd-4fa8-8109-e758129353f3"
   },
   "outputs": [
    {
     "name": "stdout",
     "output_type": "stream",
     "text": [
      "Found 200 images belonging to 2 classes.\n"
     ]
    }
   ],
   "source": [
    "valid_datagen = tf.keras.preprocessing.image.ImageDataGenerator(rescale=1./255,\n",
    "                                                                horizontal_flip=True,\n",
    "                                                                vertical_flip=True,\n",
    "                                                                brightness_range=(0.5,0.8),\n",
    "                                                                rotation_range=30)\n",
    "valid_generator = valid_datagen.flow_from_directory(\n",
    "VALID_DATA_DIR,\n",
    "class_mode='binary',\n",
    "shuffle=True,\n",
    "target_size=IMAGE_SHAPE\n",
    ")"
   ]
  },
  {
   "cell_type": "code",
   "execution_count": 9,
   "metadata": {},
   "outputs": [
    {
     "name": "stdout",
     "output_type": "stream",
     "text": [
      "Found 100 images belonging to 2 classes.\n"
     ]
    }
   ],
   "source": [
    "test_datagen = tf.keras.preprocessing.image.ImageDataGenerator(rescale=1./255,\n",
    "                                                                horizontal_flip=True,\n",
    "                                                               vertical_flip=True,\n",
    "                                                                brightness_range=(0.5,0.8),\n",
    "                                                                rotation_range=30)\n",
    "test_generator = test_datagen.flow_from_directory(\n",
    "Test_Data_DIR,\n",
    "class_mode='binary',\n",
    "shuffle=True,\n",
    "target_size=IMAGE_SHAPE\n",
    ")"
   ]
  },
  {
   "cell_type": "code",
   "execution_count": 10,
   "metadata": {
    "colab": {
     "base_uri": "https://localhost:8080/"
    },
    "id": "5fKrauYb6O2d",
    "outputId": "f60fa216-0ee5-4515-f0b4-5abf85622c9e"
   },
   "outputs": [
    {
     "name": "stdout",
     "output_type": "stream",
     "text": [
      "{'Cat': 0, 'Dog': 1}\n"
     ]
    }
   ],
   "source": [
    "print(train_generator.class_indices)"
   ]
  },
  {
   "cell_type": "code",
   "execution_count": 18,
   "metadata": {
    "id": "M_kuWNnK6eS-"
   },
   "outputs": [],
   "source": [
    "model = tf.keras.models.Sequential([\n",
    "    tf.keras.layers.Conv2D(64, (3,3),activation='relu',kernel_initializer='he_uniform', padding='same', input_shape=(256,256,3)),\n",
    "    tf.keras.layers.MaxPool2D(pool_size = (2,2)),\n",
    "    tf.keras.layers.Dropout(0.2),\n",
    "\n",
    "    tf.keras.layers.Conv2D(64, (3,3),activation='relu', padding='same',kernel_initializer='he_uniform'),\n",
    "    tf.keras.layers.MaxPool2D(pool_size = (2,2)),\n",
    "    tf.keras.layers.Dropout(0.2),\n",
    "\n",
    "    tf.keras.layers.Conv2D(128, (3,3),activation='relu', padding='same',kernel_initializer='he_uniform'),\n",
    "    tf.keras.layers.MaxPool2D(pool_size = (2,2)),\n",
    "    tf.keras.layers.Dropout(0.2),\n",
    "\n",
    "    tf.keras.layers.Conv2D(256, (3,3),activation='relu', padding='same',kernel_initializer='he_uniform'),\n",
    "    tf.keras.layers.MaxPool2D(pool_size = (2,2)),\n",
    "   tf.keras.layers.Dropout(0.2),\n",
    "\n",
    "    tf.keras.layers.Flatten(),\n",
    "\n",
    "    tf.keras.layers.Dense(128),\n",
    "   tf.keras.layers.Dropout(0.5),\n",
    "\n",
    "    tf.keras.layers.Dense(256),\n",
    "    tf.keras.layers.Dropout(0.2),\n",
    "\n",
    "    tf.keras.layers.Dense(512),\n",
    "    #tf.keras.layers.Dropout(0.2),\n",
    "    #For Binary Classes (i.e. Cats&Dogs)\n",
    "    tf.keras.layers.Dense(1, activation='sigmoid')\n",
    "    #For Multi-Class (i.e. Cats&Dogs&Birds....)\n",
    "    # tf.keras.layers.Dense(3, activation='softmax')\n",
    "])"
   ]
  },
  {
   "cell_type": "code",
   "execution_count": 19,
   "metadata": {
    "colab": {
     "base_uri": "https://localhost:8080/"
    },
    "id": "oNMCg38g8xHV",
    "outputId": "cc6309d9-184e-4662-9b75-fd9302e8b20d"
   },
   "outputs": [
    {
     "name": "stdout",
     "output_type": "stream",
     "text": [
      "Model: \"sequential_2\"\n",
      "_________________________________________________________________\n",
      " Layer (type)                Output Shape              Param #   \n",
      "=================================================================\n",
      " conv2d_8 (Conv2D)           (None, 256, 256, 64)      1792      \n",
      "                                                                 \n",
      " max_pooling2d_8 (MaxPooling  (None, 128, 128, 64)     0         \n",
      " 2D)                                                             \n",
      "                                                                 \n",
      " dropout_12 (Dropout)        (None, 128, 128, 64)      0         \n",
      "                                                                 \n",
      " conv2d_9 (Conv2D)           (None, 128, 128, 64)      36928     \n",
      "                                                                 \n",
      " max_pooling2d_9 (MaxPooling  (None, 64, 64, 64)       0         \n",
      " 2D)                                                             \n",
      "                                                                 \n",
      " dropout_13 (Dropout)        (None, 64, 64, 64)        0         \n",
      "                                                                 \n",
      " conv2d_10 (Conv2D)          (None, 64, 64, 128)       73856     \n",
      "                                                                 \n",
      " max_pooling2d_10 (MaxPoolin  (None, 32, 32, 128)      0         \n",
      " g2D)                                                            \n",
      "                                                                 \n",
      " dropout_14 (Dropout)        (None, 32, 32, 128)       0         \n",
      "                                                                 \n",
      " conv2d_11 (Conv2D)          (None, 32, 32, 256)       295168    \n",
      "                                                                 \n",
      " max_pooling2d_11 (MaxPoolin  (None, 16, 16, 256)      0         \n",
      " g2D)                                                            \n",
      "                                                                 \n",
      " dropout_15 (Dropout)        (None, 16, 16, 256)       0         \n",
      "                                                                 \n",
      " flatten_2 (Flatten)         (None, 65536)             0         \n",
      "                                                                 \n",
      " dense_8 (Dense)             (None, 128)               8388736   \n",
      "                                                                 \n",
      " dropout_16 (Dropout)        (None, 128)               0         \n",
      "                                                                 \n",
      " dense_9 (Dense)             (None, 256)               33024     \n",
      "                                                                 \n",
      " dropout_17 (Dropout)        (None, 256)               0         \n",
      "                                                                 \n",
      " dense_10 (Dense)            (None, 512)               131584    \n",
      "                                                                 \n",
      " dense_11 (Dense)            (None, 1)                 513       \n",
      "                                                                 \n",
      "=================================================================\n",
      "Total params: 8,961,601\n",
      "Trainable params: 8,961,601\n",
      "Non-trainable params: 0\n",
      "_________________________________________________________________\n"
     ]
    }
   ],
   "source": [
    "model.summary()"
   ]
  },
  {
   "cell_type": "code",
   "execution_count": 20,
   "metadata": {
    "id": "3Yev5blpOvya"
   },
   "outputs": [],
   "source": [
    "steps_per_epoch = np.ceil(train_generator.samples/train_generator.batch_size)\n",
    "val_steps_per_epoch = np.ceil(valid_generator.samples/valid_generator.batch_size)"
   ]
  },
  {
   "cell_type": "code",
   "execution_count": null,
   "metadata": {
    "colab": {
     "base_uri": "https://localhost:8080/"
    },
    "id": "LkSh1iwj9VJI",
    "outputId": "fcc09cd9-d32d-475f-df50-b920589c3d5f"
   },
   "outputs": [
    {
     "name": "stdout",
     "output_type": "stream",
     "text": [
      "Epoch 1/30\n",
      "22/22 [==============================] - 84s 4s/step - loss: 0.6909 - accuracy: 0.5143 - val_loss: 0.6927 - val_accuracy: 0.4950\n",
      "Epoch 2/30\n",
      "22/22 [==============================] - 78s 4s/step - loss: 0.6931 - accuracy: 0.5286 - val_loss: 0.6899 - val_accuracy: 0.5200\n",
      "Epoch 3/30\n",
      "22/22 [==============================] - 77s 4s/step - loss: 0.6914 - accuracy: 0.5314 - val_loss: 0.6903 - val_accuracy: 0.5750\n",
      "Epoch 4/30\n",
      "22/22 [==============================] - 78s 4s/step - loss: 0.6923 - accuracy: 0.5186 - val_loss: 0.6878 - val_accuracy: 0.5700\n",
      "Epoch 5/30\n",
      "22/22 [==============================] - 79s 4s/step - loss: 0.6905 - accuracy: 0.5214 - val_loss: 0.6872 - val_accuracy: 0.5300\n",
      "Epoch 6/30\n",
      "22/22 [==============================] - 78s 4s/step - loss: 0.6911 - accuracy: 0.5057 - val_loss: 0.6830 - val_accuracy: 0.5400\n",
      "Epoch 7/30\n",
      "22/22 [==============================] - 78s 4s/step - loss: 0.6891 - accuracy: 0.5329 - val_loss: 0.6801 - val_accuracy: 0.5500\n",
      "Epoch 8/30\n",
      "22/22 [==============================] - 78s 4s/step - loss: 0.6890 - accuracy: 0.5157 - val_loss: 0.6843 - val_accuracy: 0.5150\n",
      "Epoch 9/30\n",
      "22/22 [==============================] - 78s 4s/step - loss: 0.6888 - accuracy: 0.5186 - val_loss: 0.6794 - val_accuracy: 0.5300\n",
      "Epoch 10/30\n",
      "22/22 [==============================] - 78s 4s/step - loss: 0.6908 - accuracy: 0.5343 - val_loss: 0.6774 - val_accuracy: 0.5350\n",
      "Epoch 11/30\n",
      "22/22 [==============================] - 78s 4s/step - loss: 0.6853 - accuracy: 0.5429 - val_loss: 0.6740 - val_accuracy: 0.6150\n",
      "Epoch 12/30\n",
      "22/22 [==============================] - 81s 4s/step - loss: 0.6839 - accuracy: 0.5829 - val_loss: 0.6792 - val_accuracy: 0.5350\n",
      "Epoch 13/30\n",
      "22/22 [==============================] - 87s 4s/step - loss: 0.6844 - accuracy: 0.5529 - val_loss: 0.6744 - val_accuracy: 0.5500\n",
      "Epoch 14/30\n",
      "22/22 [==============================] - 83s 4s/step - loss: 0.6877 - accuracy: 0.5586 - val_loss: 0.6748 - val_accuracy: 0.6350\n",
      "Epoch 15/30\n",
      "22/22 [==============================] - 79s 4s/step - loss: 0.6866 - accuracy: 0.5371 - val_loss: 0.6816 - val_accuracy: 0.5200\n",
      "Epoch 16/30\n",
      "22/22 [==============================] - 79s 4s/step - loss: 0.6843 - accuracy: 0.5286 - val_loss: 0.6768 - val_accuracy: 0.5250\n",
      "Epoch 17/30\n",
      " 4/22 [====>.........................] - ETA: 49s - loss: 0.6841 - accuracy: 0.5403"
     ]
    }
   ],
   "source": [
    "from tensorflow.keras.optimizers import SGD\n",
    "\n",
    "optimizer = \"SGD\"\n",
    "model.compile(\n",
    " optimizer=optimizer,\n",
    " loss=\"binary_crossentropy\",\n",
    " #For MultiClass use categorical_crossentropy\n",
    " #For Binary Class use binary_crossentropy\n",
    "\n",
    " metrics=[\"accuracy\"])\n",
    "\n",
    "callback = tf.keras.callbacks.EarlyStopping(monitor='accuracy', patience=8)\n",
    "\n",
    "history = model.fit(train_generator, validation_data=valid_generator, epochs=30, callbacks=callback,steps_per_epoch=steps_per_epoch,validation_steps=val_steps_per_epoch).history"
   ]
  },
  {
   "cell_type": "code",
   "execution_count": 19,
   "metadata": {
    "id": "DU2TPqwCHvCO"
   },
   "outputs": [],
   "source": [
    "accuracy = history['accuracy']\n",
    "val_accuracy  = history['val_accuracy']\n",
    "\n",
    "loss = history['loss']\n",
    "val_loss = history['val_loss']"
   ]
  },
  {
   "cell_type": "code",
   "execution_count": 20,
   "metadata": {
    "colab": {
     "base_uri": "https://localhost:8080/",
     "height": 453
    },
    "id": "_ypjhdoPHu_y",
    "outputId": "5a30c1f2-0152-4eb1-8deb-33cd277a3b05"
   },
   "outputs": [
    {
     "data": {
      "image/png": "[encoded data removed]",
      "text/plain": [
       "<Figure size 1500x1000 with 2 Axes>"
      ]
     },
     "metadata": {},
     "output_type": "display_data"
    }
   ],
   "source": [
    "import matplotlib.pyplot as plt\n",
    "\n",
    "plt.figure(figsize=(15,10))\n",
    "\n",
    "plt.subplot(2, 2, 1)\n",
    "plt.plot(accuracy, label = \"Training accuracy\")\n",
    "plt.plot(val_accuracy, label=\"Validation accuracy\")\n",
    "plt.legend()\n",
    "plt.title(\"Training vs validation accuracy\")\n",
    "\n",
    "\n",
    "plt.subplot(2,2,2)\n",
    "plt.plot(loss, label = \"Training loss\")\n",
    "plt.plot(val_loss, label=\"Validation loss\")\n",
    "plt.legend()\n",
    "plt.title(\"Training vs validation loss\")\n",
    "\n",
    "plt.show()"
   ]
  },
  {
   "cell_type": "code",
   "execution_count": 22,
   "metadata": {
    "colab": {
     "base_uri": "https://localhost:8080/"
    },
    "id": "t5GoAFLXnZft",
    "outputId": "63be68d9-400d-4a41-c276-f27ea0ed972d"
   },
   "outputs": [
    {
     "name": "stdout",
     "output_type": "stream",
     "text": [
      "1/1 [==============================] - 0s 38ms/step\n",
      "[[9.769607e-18]]\n"
     ]
    }
   ],
   "source": [
    "# make a prediction for a new image.\n",
    "from keras.preprocessing.image import load_img\n",
    "from keras.preprocessing.image import img_to_array\n",
    "from keras.models import load_model\n",
    "\n",
    "# load and prepare the image\n",
    "def load_image(filename):\n",
    "\t# load the image\n",
    "\timg = load_img(filename, target_size=(224, 224))\n",
    "\t# convert to array\n",
    "\timg = img_to_array(img)\n",
    "\t# reshape into a single sample with 3 channels\n",
    "\timg = img.reshape(1, 224, 224, 3)\n",
    "\t# center pixel data\n",
    "\timg = img.astype('float32')\n",
    "\t#img = img - [123.68, 116.779, 103.939]\n",
    "\treturn img\n",
    "\n",
    "# load an image and predict the class\n",
    "def run_example():\n",
    "\t# load the image\n",
    "\timg = load_image('/content/CatsAndDogsTTS/test/Cat/107.png')\n",
    "\t# load model\n",
    "\t#model = load_model('final_model.h5')\n",
    "\t# predict the class\n",
    "\tresult = model.predict(img)\n",
    "\tprint(result)\n",
    "\n",
    "\n",
    "# entry point, run the example\n",
    "run_example()"
   ]
  },
  {
   "cell_type": "code",
   "execution_count": null,
   "metadata": {
    "id": "vRhB3q6NpTn3"
   },
   "outputs": [],
   "source": [
    "model.save(\"./CatsAndDogs.h5\")"
   ]
  }
 ],
 "metadata": {
  "accelerator": "GPU",
  "colab": {
   "gpuType": "T4",
   "provenance": []
  },
  "kernelspec": {
   "display_name": "Python 3 (ipykernel)",
   "language": "python",
   "name": "python3"
  },
  "language_info": {
   "codemirror_mode": {
    "name": "ipython",
    "version": 3
   },
   "file_extension": ".py",
   "mimetype": "text/x-python",
   "name": "python",
   "nbconvert_exporter": "python",
   "pygments_lexer": "ipython3",
   "version": "3.9.19"
  }
 },
 "nbformat": 4,
 "nbformat_minor": 4
}
